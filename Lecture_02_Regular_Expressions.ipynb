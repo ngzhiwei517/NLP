{
  "cells": [
    {
      "cell_type": "markdown",
      "metadata": {
        "id": "view-in-github",
        "colab_type": "text"
      },
      "source": [
        "<a href=\"https://colab.research.google.com/github/ngzhiwei517/NLP/blob/main/Lecture_02_Regular_Expressions.ipynb\" target=\"_parent\"><img src=\"https://colab.research.google.com/assets/colab-badge.svg\" alt=\"Open In Colab\"/></a>"
      ]
    },
    {
      "cell_type": "markdown",
      "metadata": {
        "id": "0jqelC4O6XMb"
      },
      "source": [
        "# Regular Expressions\n",
        "A regular expression (regex) is a special way to describe patterns in text.\n",
        "\n",
        "A regular expression is like a smart pattern you use to search, extract, or replace text."
      ]
    },
    {
      "cell_type": "code",
      "execution_count": 13,
      "metadata": {
        "id": "SQzHsn2a6XMd",
        "colab": {
          "base_uri": "https://localhost:8080/"
        },
        "outputId": "66c5893e-91ad-4ded-b6bf-f0f550c1c15f"
      },
      "outputs": [
        {
          "output_type": "stream",
          "name": "stdout",
          "text": [
            "100\n",
            "200\n",
            "['100', '20']\n",
            "100\n",
            "20\n",
            "Price is XX dollars\n"
          ]
        }
      ],
      "source": [
        "import re\n",
        "match = re.search(r\"\\d+\", \"Price is 100 dollars\")\n",
        "print(match.group())  # Output: 100\n",
        "\n",
        "match = re.match(r\"\\d+\", \"200 100 dollars\")\n",
        "print(match.group())  # Output: 100\n",
        "\n",
        "#📃 findall()\n",
        "#Finds all matching patterns and returns them as a lists\n",
        "\n",
        "matches = re.findall(r\"\\d+\", \"Price is 100 and discount is 20\")\n",
        "print(matches)  # Output: ['100', '20']\n",
        "\n",
        "#🔁 finditer()\n",
        "#Returns an iterator of match objects (more detailed info).\n",
        "for match in re.finditer(r\"\\d+\", \"100 apples and 20 bananas\"):\n",
        "    print(match.group())  # Output: 100, then 20\n",
        "\n",
        "#✏️ sub()\n",
        "#Substitute (replace) text that matches a pattern.\n",
        "result = re.sub(r\"\\d+\", \"XX\", \"Price is 100 dollars\")\n",
        "print(result)  # Output: Price is XX dollars\n",
        "#📌 Replace numbers with “XX” 🔁"
      ]
    },
    {
      "cell_type": "markdown",
      "metadata": {
        "id": "1LMhtbIW6XMf"
      },
      "source": [
        "\n",
        "\n",
        "\n",
        "\n",
        "*   🎯 match():Checks only the start of the string.\n",
        "*   🔍 search()\n",
        "Looks for the first match anywhere in the string.\n",
        "\n",
        "text = \"I love Python!\"\n",
        "\n",
        "search: looks for \"Python\" anywhere in the text\n",
        "\n",
        "result_search = re.search(\"Python\", text)\n",
        "\n",
        "✅ Match object found\n",
        "\n",
        "*   match: looks for \"Python\" only at the beginning.\n",
        "\n",
        "result_match = re.match(\"Python\", text)\n",
        "\n",
        "❌ None\n",
        "\n",
        "\n",
        "\n",
        "\n",
        "\n",
        "The full of functions including the respective input parameters can be found here:\n",
        "- https://docs.python.org/3.4/library/re.html#re.search\n"
      ]
    },
    {
      "cell_type": "markdown",
      "metadata": {
        "id": "ceYnnHJ66XMf"
      },
      "source": [
        "The method `show_matches()`\n",
        "\n",
        "It's a helper function to make it easier to see which parts of a string match a pattern using regular expressions (re module in Python)."
      ]
    },
    {
      "cell_type": "code",
      "execution_count": 14,
      "metadata": {
        "id": "Ou5A7FjW6XMg"
      },
      "outputs": [],
      "source": [
        "def show_matches(pattern, string, flags=0):\n",
        "    matches = re.findall(pattern, string, flags)\n",
        "    if len(matches) == 0:\n",
        "        print(\"No match found.\", \"\\n\")\n",
        "    else:\n",
        "        try:\n",
        "            print(', '.join(matches), '\\n')\n",
        "        except:\n",
        "            print(matches, '\\n')"
      ]
    },
    {
      "cell_type": "markdown",
      "metadata": {
        "id": "0K4NNaid6XMg"
      },
      "source": [
        "Let's use the next controversial statement for a series of examples.\n"
      ]
    },
    {
      "cell_type": "code",
      "execution_count": null,
      "metadata": {
        "id": "3iYrsbp46XMh"
      },
      "outputs": [],
      "source": [
        "sentence = \"Having 1 cat is nice, but having 20 cats is crazy!\""
      ]
    },
    {
      "cell_type": "markdown",
      "metadata": {
        "id": "CkaczatZ6XMh"
      },
      "source": [
        "## Basic patterns"
      ]
    },
    {
      "cell_type": "markdown",
      "metadata": {
        "id": "Mu5JUkpH6XMi"
      },
      "source": [
        "- `a`, `X`, `9`, `<`: ordinary characters just match themselves exactly. The meta-characters which do not match themselves because they have special meanings are: `.` `^` `$` `*` `+` `?` `{` `[` `]` `\\` `|` `(` `)` (details below)\n",
        "- `.` (a period): matches any single character except newline `\\n`\n",
        "- `\\w`: (lowercase w) matches a \"word\" character: a letter or digit or underbar `[a-zA-Z0-9_]`. Note that although \"word\" is the mnemonic for this, it only matches a single word char, not a whole word. `\\W` (upper case W) matches any non-word character.\n",
        "- `\\b`: boundary between word and non-word\n",
        "- `\\s`: (lowercase s) matches a single whitespace character -- space, newline, return, tab, form `[ \\n\\r\\t\\f]`. `\\S` (upper case S) matches any non-whitespace character.\n",
        "- `\\t`, `\\n`, `\\r`: tab, newline, return\n",
        "- `\\d`: decimal digit [0-9] (some older regex utilities do not support but `\\d`, but they all support `\\w` and `\\s`)\n",
        "- `^` = start, `$` = end: match the start or end of the string\n",
        "- `\\`: inhibit the \"specialness\" of a character. So, for example, use `\\`. to match a period or `\\\\` to match a slash. If you are unsure if a character has special meaning, such as `@`, you can put a slash in front of it, `\\@`, to make sure it is treated just as a character."
      ]
    },
    {
      "cell_type": "code",
      "execution_count": null,
      "metadata": {
        "id": "be5BDr456XMj"
      },
      "outputs": [],
      "source": [
        "show_matches(r'cat', sentence)\n",
        "show_matches(r'cats', sentence)\n",
        "show_matches(r'cat\\s', sentence)\n",
        "show_matches(r'\\bcat\\b', sentence)\n",
        "show_matches(r'^cat', sentence)\n",
        "show_matches(r'cat$', sentence)"
      ]
    },
    {
      "cell_type": "code",
      "execution_count": null,
      "metadata": {
        "id": "rZqVaNiq6XMj"
      },
      "outputs": [],
      "source": [
        "show_matches(r'Cat', sentence)\n",
        "show_matches(r'Cat', sentence, flags=re.IGNORECASE)"
      ]
    },
    {
      "cell_type": "markdown",
      "metadata": {
        "id": "jhBbeTa_6XMk"
      },
      "source": [
        "By default, every part of a pattern has to match for the whole pattern to match. The pipe operator `|` allows to combine two patterns by means of a logical OR:"
      ]
    },
    {
      "cell_type": "code",
      "execution_count": null,
      "metadata": {
        "id": "bJzEEiQp6XMk"
      },
      "outputs": [],
      "source": [
        "show_matches(r'cats|cat', sentence)\n",
        "show_matches(r'cat|cats', sentence)"
      ]
    },
    {
      "cell_type": "markdown",
      "metadata": {
        "id": "Kg7cEcww6XMl"
      },
      "source": [
        "Notice that the two expressions do noy yield the same result. In the second expression, the successful match happens already with the first three letters of \"cats\". If the words would share a common substring, the order wouldn't matter. for, example `cat|dog` and `dog|cat` would indeed yield the same results."
      ]
    },
    {
      "cell_type": "code",
      "execution_count": null,
      "metadata": {
        "id": "UY2NE_H26XMl"
      },
      "outputs": [],
      "source": [
        "show_matches(r'\\d', sentence)        # Same as: show_matches(r'[0-9]', sentence)\n",
        "show_matches(r'\\d\\d', sentence)      # Same as: show_matches(r'[0-9][0-9]', sentence)\n",
        "show_matches(r'\\d\\d\\d', sentence)    # Same as: show_matches(r'[0-9][0-9][0-9]', sentence)"
      ]
    },
    {
      "cell_type": "code",
      "execution_count": null,
      "metadata": {
        "id": "RV5-gU1h6XMm"
      },
      "outputs": [],
      "source": [
        "show_matches(r'\\w', sentence)        # Same as: show_matches(r'[a-zA-Z0-9_]', sentence)\n",
        "show_matches(r'\\w\\w', sentence)      # Same as: show_matches(r'[a-zA-Z0-9_][a-zA-Z0-9_]', sentence)\n",
        "show_matches(r'\\w\\w\\w', sentence)    # Same as: show_matches(r'[a-zA-Z0-9_][a-zA-Z0-9_][a-zA-Z0-9_]', sentence)"
      ]
    },
    {
      "cell_type": "markdown",
      "metadata": {
        "id": "PXJug07E6XMm"
      },
      "source": [
        "Notice that matches never overlap. For example, in the last example, one might assume something like: `Hav`, `avi`, `vin`, `ing`, `cat`, `nic`, `ice`, etc. Basic RegEx analyzer do not support overlapping matches, but there are RegEx packages for Python available that do, e.g., `import regex`.\n"
      ]
    },
    {
      "cell_type": "code",
      "execution_count": null,
      "metadata": {
        "id": "6y4EF2476XMm"
      },
      "outputs": [],
      "source": [
        "show_matches(r'Having', sentence)\n",
        "show_matches(r'^Having', sentence)\n",
        "show_matches(r'Having$', sentence)"
      ]
    },
    {
      "cell_type": "code",
      "execution_count": null,
      "metadata": {
        "id": "6Lc_v_pV6XMm"
      },
      "outputs": [],
      "source": [
        "print(re.sub(r'cat', 'dog', sentence))"
      ]
    },
    {
      "cell_type": "markdown",
      "metadata": {
        "id": "PhHdBB-06XMm"
      },
      "source": [
        "**Important:** Always be careful what you're doing when you replace substrings! :)"
      ]
    },
    {
      "cell_type": "code",
      "execution_count": null,
      "metadata": {
        "id": "fO6Lv-Nx6XMm"
      },
      "outputs": [],
      "source": [
        "print(re.sub(r'cat', 'dog', 'The scatter plot shows all the categories'))"
      ]
    },
    {
      "cell_type": "markdown",
      "metadata": {
        "id": "SD2StHk26XMm"
      },
      "source": [
        "## Repetition patterns"
      ]
    },
    {
      "cell_type": "markdown",
      "metadata": {
        "id": "Kfaxh_Nt6XMm"
      },
      "source": [
        "- `+`: 1 or more occurrences of the pattern to its left, e.g. 'i+' = one or more i's\n",
        "- `*`: 0 or more occurrences of the pattern to its left\n",
        "- `?`: match 0 or 1 occurrences of the pattern to its left\n",
        "- `{n}`: specification of number of occurrences\n",
        "- `{l,u}`: specification of a lower bound `l` and an upper bound `u`. The interval can be unbounded: `{l,}` or `{,u}`"
      ]
    },
    {
      "cell_type": "code",
      "execution_count": null,
      "metadata": {
        "id": "pQcdGQ3v6XMn"
      },
      "outputs": [],
      "source": [
        "show_matches(r'\\d+', sentence)        # Same as: show_matches(r'[0-9]+', sentence)\n",
        "show_matches(r'\\d*', sentence)        # Same as: show_matches(r'[0-9]*', sentence)\n",
        "show_matches(r'\\d?', sentence)        # Same as: show_matches(r'[0-9]?', sentence)"
      ]
    },
    {
      "cell_type": "code",
      "execution_count": null,
      "metadata": {
        "id": "TMXbPNM56XMn"
      },
      "outputs": [],
      "source": [
        "show_matches(r'\\d{,3}', sentence)\n",
        "show_matches(r'\\d{1}', sentence)\n",
        "show_matches(r'\\d{1,1}', sentence)\n",
        "show_matches(r'\\d{2,3}', sentence)\n",
        "show_matches(r'\\d{2,2}', sentence)\n",
        "show_matches(r'\\d{1,}', sentence)"
      ]
    },
    {
      "cell_type": "code",
      "execution_count": null,
      "metadata": {
        "id": "NqN7Hgum6XMn"
      },
      "outputs": [],
      "source": [
        "show_matches(r'\\w+', sentence)        # Same as: show_matches(r'[a-zA-Z0-9_]+', sentence)\n",
        "show_matches(r'\\w*', sentence)        # Same as: show_matches(r'[a-zA-Z0-9_]*', sentence)\n",
        "show_matches(r'\\w?', sentence)        # Same as: show_matches(r'[a-zA-Z0-9_]?', sentence)\n",
        "show_matches(r'[a-zA-Z]+', sentence)"
      ]
    },
    {
      "cell_type": "code",
      "execution_count": null,
      "metadata": {
        "id": "VbYXwu7t6XMn"
      },
      "outputs": [],
      "source": [
        "show_matches(r'cats+', sentence)\n",
        "show_matches(r'cats*', sentence)\n",
        "show_matches(r'cats?', sentence)"
      ]
    },
    {
      "cell_type": "markdown",
      "metadata": {
        "id": "M9Fj0nWo6XMn"
      },
      "source": [
        "## Group extraction\n",
        "\n",
        "Groups are very useful to \"organize\" a regular expression into different parts. While for a match all parts/groups must match, the individual groups are captured individually and can be accessed as such. As a result, the output is no longer a list of strings, one for each match, but a list of tuples. The number of elements in each tuple reflects the number of groups in the regular expression.\n"
      ]
    },
    {
      "cell_type": "markdown",
      "metadata": {
        "id": "_bFBEIpB6XMn"
      },
      "source": [
        "The following looks for all number-word pairs (e.g., \"20 cats\", but also \"300km\" since the whitespace between number and word is optional)."
      ]
    },
    {
      "cell_type": "code",
      "execution_count": null,
      "metadata": {
        "id": "REOcJvCR6XMn"
      },
      "outputs": [],
      "source": [
        "show_matches(r'(\\d+)\\s?(\\w+)', sentence)"
      ]
    },
    {
      "cell_type": "markdown",
      "metadata": {
        "id": "E9zDzO7K6XMn"
      },
      "source": [
        "The following examples splits a sentence into different clauses by looking for commas, colons, and semicolons."
      ]
    },
    {
      "cell_type": "code",
      "execution_count": null,
      "metadata": {
        "id": "AbTyqqiR6XMn"
      },
      "outputs": [],
      "source": [
        "show_matches(r'([\\w\\s]+)[,;:]([\\w\\s]+)', sentence)"
      ]
    },
    {
      "cell_type": "markdown",
      "metadata": {
        "id": "dMRqAg4v6XMn"
      },
      "source": [
        "The following examples look for email addresses in a string."
      ]
    },
    {
      "cell_type": "code",
      "execution_count": null,
      "metadata": {
        "id": "zx4pO7sK6XMn"
      },
      "outputs": [],
      "source": [
        "email_sentence = \"You can contact me via test@example.org or demo.user.@example.org.\"\n",
        "\n",
        "matches = re.findall(r'[\\w.-]+@[\\w.-]+\\w', email_sentence)\n",
        "matches = re.findall(r'((\\w+[\\w.])*@(\\w+[.])*\\w+)', email_sentence)\n",
        "\n",
        "for m in matches:\n",
        "    print(m)"
      ]
    },
    {
      "cell_type": "markdown",
      "metadata": {
        "id": "ZxZBakao6XMn"
      },
      "source": [
        "We can use groups to make it easy to individually get the account name (string for @) and the server name (string after @)."
      ]
    },
    {
      "cell_type": "code",
      "execution_count": null,
      "metadata": {
        "id": "wHJZmOnZ6XMn"
      },
      "outputs": [],
      "source": [
        "matches = re.findall(r'([\\w.-]+)@([\\w.-]+\\w)', email_sentence)\n",
        "\n",
        "for m in matches:\n",
        "    print(m)\n",
        "    print(\"-- account name: {}\".format(m[0]))\n",
        "    print(\"-- server name:  {}\".format(m[1]))"
      ]
    },
    {
      "cell_type": "markdown",
      "metadata": {
        "id": "rsGcsDNu6XMo"
      },
      "source": [
        "Sometimes, we not only want the matching substrings but also the position of each match in the input string. For example, it can be interesting how far apart two matches are in the string. To accomplish this, we can use the method `finditer()` which returns an iterator of match objects which in turn provide functions to get the location of a match in terms of the positions of the first character and the last character."
      ]
    },
    {
      "cell_type": "code",
      "execution_count": null,
      "metadata": {
        "id": "a7J9VYfY6XMo"
      },
      "outputs": [],
      "source": [
        "pattern = re.compile(r'([\\w.-]+)@([\\w.-]+)')\n",
        "\n",
        "for m in pattern.finditer(email_sentence):\n",
        "    print(m)\n",
        "    print(m.group(), m.span())      # Same as print(m.group(0), m.span(0))\n",
        "    print(m.group(1), m.span(1))\n",
        "    print(m.group(2), m.span(2))\n",
        "    print()"
      ]
    },
    {
      "cell_type": "markdown",
      "metadata": {
        "id": "EwujQ9ko6XMo"
      },
      "source": [
        "Note that `m` is not a string but a match object, since we are using `finditer()` instead of `findall()`.\n",
        "\n",
        "By default, groups are getting numbered with respect to the order of appearance. Thus to access the first group, we have to write `group(1)` and `span(1)`. `span(0)` or simply `span()` returns the complete match covering all groups and the \"rest\".\n",
        "\n",
        "Groups can also be nested -- see the example later below. In case of nesting, the numbering derives from the order in which groups are opened by `(`.\n"
      ]
    },
    {
      "cell_type": "markdown",
      "metadata": {
        "id": "hDSIhhQX6XMt"
      },
      "source": [
        "### Named groups\n",
        "\n",
        "Instead of using the implicit ordering of groups to access the (partial) matches, we can also give each group its own name with `(?P<account>...)`. This later allows access to the groups using the name, which avoids keeping track of the ordering -- but makes the regular expression more scary looking.\n",
        "\n",
        "The example below again extracts all email addresses and differentiates between the account and server part of the address; see above. However, here we use named groups to make printing the matches more intuitive.\n"
      ]
    },
    {
      "cell_type": "code",
      "execution_count": null,
      "metadata": {
        "id": "Zni30BsO6XMt"
      },
      "outputs": [],
      "source": [
        "pattern = re.compile(r'(?P<account>[\\w.-]+)@(?P<server>[\\w.-]+\\w)')\n",
        "\n",
        "for m in pattern.finditer(email_sentence):\n",
        "    print(m)\n",
        "    print(m.group(), m.span())\n",
        "    print(m.group('account'), m.span('account'))\n",
        "    print(m.group('server'), m.span('server'))\n",
        "    print()"
      ]
    },
    {
      "cell_type": "markdown",
      "metadata": {
        "id": "xem8Pbna6XMt"
      },
      "source": [
        "### Grouping and Capturing\n",
        "\n",
        "Parentheses serve two different purposes: grouping expressions and capturing the text that matches an expression. That is, by default, each matching group is captured and returned. However, sometimes groups are only used for matching by not capturing. Consider the following example:"
      ]
    },
    {
      "cell_type": "code",
      "execution_count": null,
      "metadata": {
        "id": "45JDKKHP6XMt"
      },
      "outputs": [],
      "source": [
        "gc_sentence = \"Aircraft and airplane are synonyms, but a jet is a special kind of airplane.\""
      ]
    },
    {
      "cell_type": "markdown",
      "metadata": {
        "id": "1m24NW9q6XMt"
      },
      "source": [
        "From this sentence we want to extract all mentions of \"aircraft\", \"airplane\", and \"jet\". Making use of the syntactic similarities between \"aircraft\" and \"airplane\", we can accomplish this by using:"
      ]
    },
    {
      "cell_type": "code",
      "execution_count": null,
      "metadata": {
        "id": "SRqEb-MS6XMt"
      },
      "outputs": [],
      "source": [
        "pattern = re.compile(r'(air(craft|plane)|jet)', flags=re.IGNORECASE)\n",
        "\n",
        "for m in pattern.finditer(gc_sentence):\n",
        "    print(m.group(1), m.span(1))\n",
        "    print(m.group(2), m.span(2))"
      ]
    },
    {
      "cell_type": "markdown",
      "metadata": {
        "id": "7av-Frfj6XMt"
      },
      "source": [
        "Since we have two groups, we not only capture \"aircraft\" and \"airplane\" but also \"craft\" and \"plane\". This is not really what we want. To get rid of it, we can switch off the capturing of the 2nd group with `?:` -- now the 2n group is only used for matching:"
      ]
    },
    {
      "cell_type": "code",
      "execution_count": null,
      "metadata": {
        "id": "_wQaoznE6XMt"
      },
      "outputs": [],
      "source": [
        "pattern = re.compile(r'(air(?:craft|plane)|jet)', flags=re.IGNORECASE)\n",
        "\n",
        "for m in pattern.finditer(gc_sentence):\n",
        "    print(m.group(1), m.span(1))\n",
        "    # print(m.group(2), m.span(2)) # Now throws an error since the 2nd group has been \"disabled\""
      ]
    },
    {
      "cell_type": "markdown",
      "metadata": {
        "id": "2v-9dGiJ6XMt"
      },
      "source": [
        "Side note: In this easy example, `(aircraft|airplane|jet)` would also work just fine."
      ]
    },
    {
      "cell_type": "markdown",
      "metadata": {
        "id": "RM63ftjN6XMt"
      },
      "source": [
        "## Backreferences\n",
        "\n",
        "Backreferences are a concept related to groups. They allow referring to a group in the regular expressions. The common use case is to find repeated patterns in a string."
      ]
    },
    {
      "cell_type": "code",
      "execution_count": null,
      "metadata": {
        "id": "MKHMG2Kf6XMt"
      },
      "outputs": [],
      "source": [
        "br_sentence = \"School is the coolest time of the day hahahahahaha.\""
      ]
    },
    {
      "cell_type": "markdown",
      "metadata": {
        "id": "hdl2nfoC6XMu"
      },
      "source": [
        "In the following example, we are looking for words that contain repeated substrings. According to the sentence above, that can be \"school\" where the repeated substring is \"o\", or \"hahahahahaha\" where the repeated substring is \"ha\"."
      ]
    },
    {
      "cell_type": "code",
      "execution_count": null,
      "metadata": {
        "id": "uz-41hdA6XMv"
      },
      "outputs": [],
      "source": [
        "show_matches(r'\\w*(\\w)\\1\\w*', br_sentence)\n",
        "show_matches(r'\\w*(\\w+)\\1\\w*', br_sentence)"
      ]
    },
    {
      "cell_type": "markdown",
      "metadata": {
        "id": "b0KpMWkm6XMv"
      },
      "source": [
        "This didn't quite work since `findall()` captures only groups, if groups are used. To capture the full match one can use `finditer()` or keep `findall()` but change the expression a little bit."
      ]
    },
    {
      "cell_type": "code",
      "execution_count": null,
      "metadata": {
        "id": "bVWMvcyB6XMw"
      },
      "outputs": [],
      "source": [
        "pattern = re.compile(r'\\w*(\\w+)\\1\\w*')\n",
        "\n",
        "for m in pattern.finditer(br_sentence):\n",
        "    print(m.group(), m.span())"
      ]
    },
    {
      "cell_type": "markdown",
      "metadata": {
        "id": "Tvw7Vz2b6XMx"
      },
      "source": [
        "The alternative is to use `findall()` and pack the whole expression into its own group. The only required change is that we need to replace `\\1` by `\\2` since we now have two groups -- actually nested groups, and the group that checks for doubled characters is the inner group."
      ]
    },
    {
      "cell_type": "code",
      "execution_count": null,
      "metadata": {
        "id": "_Iczsyg76XMy"
      },
      "outputs": [],
      "source": [
        "br_sentence = \"This is a test.\"\n",
        "\n",
        "show_matches(r'(\\w*(\\w)\\2\\w*)', br_sentence)\n",
        "show_matches(r'(\\w*(\\w{2,})\\2\\w*)', br_sentence)\n",
        "show_matches(r'(\\b(\\w)\\w*\\2\\b)', br_sentence, flags=re.IGNORECASE)\n",
        "\n",
        "for m in re.findall(r'(\\w*(\\w+)\\2\\w*)', br_sentence):\n",
        "    print(m[0]) # We know that we are interested in the first group ==> first element in tuple"
      ]
    },
    {
      "cell_type": "markdown",
      "metadata": {
        "id": "_ZUboc2E6XMz"
      },
      "source": [
        "Just as an additional example, let's use named groups to make the access to the matches more intuitive."
      ]
    },
    {
      "cell_type": "code",
      "execution_count": null,
      "metadata": {
        "id": "nIOFSPd56XMz"
      },
      "outputs": [],
      "source": [
        "pattern = re.compile(r'(?P<doubledword>\\w*(\\w+)\\2\\w*)')\n",
        "\n",
        "for m in pattern.finditer(br_sentence):\n",
        "    print(m.group('doubledword'), m.span('doubledword'))\n",
        "    print()"
      ]
    },
    {
      "cell_type": "markdown",
      "metadata": {
        "id": "nctl3-4j6XM0"
      },
      "source": [
        "### Replacing substrings using backreferences\n",
        "\n",
        "The replacement string can also return backreferences. However, the syntax is slightly different to avoid potential ambiguities: to refer to the first group, instead of `\\1` use `\\g<1>`."
      ]
    },
    {
      "cell_type": "code",
      "execution_count": null,
      "metadata": {
        "id": "QVWBjyXm6XM0"
      },
      "outputs": [],
      "source": [
        "print(re.sub(r'(is)', 'was and \\g<1>', br_sentence))"
      ]
    },
    {
      "cell_type": "markdown",
      "metadata": {
        "id": "4JINbPiM6XM1"
      },
      "source": [
        "The following substring replacement using `sub()` first finds double words and replaces them with just the first occurrence."
      ]
    },
    {
      "cell_type": "code",
      "execution_count": null,
      "metadata": {
        "id": "PpDwsx2V6XM1"
      },
      "outputs": [],
      "source": [
        "print(re.sub(r'\\b(\\w+)\\s+\\1\\b', '\\g<1>', 'The the length of of a text is often defined by the the number of words.', flags=re.IGNORECASE))"
      ]
    },
    {
      "cell_type": "markdown",
      "metadata": {
        "id": "z2Imam9r6XM2"
      },
      "source": [
        "We can also replace doubled words with the second occurrence, but this is likely to cause more problems when the doubled words appear at the beginning of sentence with the first occurrence being capitalized and the second one being lowercase. Notice that we first have to change `\\1` to `(\\1)` to put the second occurrence into its own group, otherwise we cannot refer to it with `\\g<2>`.\n"
      ]
    },
    {
      "cell_type": "code",
      "execution_count": null,
      "metadata": {
        "id": "qFl-Rd9W6XM2"
      },
      "outputs": [],
      "source": [
        "print(re.sub(r'\\b(\\w+)\\s+(\\1)\\b', '\\g<2>', 'The the length of of a text is often defined by the the number of words.', flags=re.IGNORECASE))"
      ]
    },
    {
      "cell_type": "markdown",
      "metadata": {
        "id": "XQPUT3bx6XM3"
      },
      "source": [
        "## Lookarounds: Lookaheads & Lookbehinds\n",
        "\n",
        "Lookarounds are assertions that look ahead or behind to ensure that a subpattern does or does not occur. Lookarounds match characters just like any other pattern, but then gives up the match, returning only the result: match or no match (hence an assertion).\n",
        "\n",
        "With the 2 directions (ahead, behind) and the 2 types of assertions (match, no match), there a for types of lookarounds:\n",
        "\n",
        "- `(?=)`: positive lookahead -- `A(?=B)` finds expression A but only when followed by expression B\n",
        "\n",
        "- `(?!)`: negative lookahead -- `A(?!B)` finds expression A but only when *not* followed by expression B\n",
        "\n",
        "- `(?<=)`: positive lookbehind -- `(?<=B)A` finds expression A but only when preceded by expression B\n",
        "\n",
        "- `(?<!)`: negative lookbehind -- `(?<!B)A` finds expression A but only when *not* preceded by expression B\n",
        "\n",
        "\n",
        "Lookaround expressions are very useful when there are several conditions.\n",
        "\n",
        "**Important:** The pattern of the lookbehinds need be of fixed length, that is, these patterns cannot have any repetition specifier that allows for various numbers of characters. For example, `(?<!B+)A`, for some expression `B` would throw an error.\n"
      ]
    },
    {
      "cell_type": "markdown",
      "metadata": {
        "id": "o6b3JPSD6XM4"
      },
      "source": [
        "### Lookaheads"
      ]
    },
    {
      "cell_type": "markdown",
      "metadata": {
        "id": "8MV29ijZ6XM4"
      },
      "source": [
        "The following examples shows a simple positive lookahead: We are searching for all first names of people with the last names \"Simpson\". That means, we are looking for all words that are followed be \"Simpsons\" (but we do not care about \"Simpson\" itself)"
      ]
    },
    {
      "cell_type": "code",
      "execution_count": null,
      "metadata": {
        "id": "7NbQ1FX76XM4"
      },
      "outputs": [],
      "source": [
        "lap_sentence = \"The team consists of Homer Simpson, Barney Gumble, Monty Burns, Marge Simpson, Ned Flanders, and Lenny Lennard.\"\n",
        "\n",
        "pattern = re.compile(r'\\w+(?= Simpson)')\n",
        "\n",
        "for m in pattern.finditer(lap_sentence):\n",
        "    print(m.group())"
      ]
    },
    {
      "cell_type": "markdown",
      "metadata": {
        "id": "UqFgSPSX6XM4"
      },
      "source": [
        "### Lookbehinds"
      ]
    },
    {
      "cell_type": "markdown",
      "metadata": {
        "id": "V4m9kAA_6XM5"
      },
      "source": [
        "The following examples shows a simple positive lookbehind: We are searching for all amounts of money in SGD."
      ]
    },
    {
      "cell_type": "code",
      "execution_count": null,
      "metadata": {
        "id": "hXD8XDbi6XM5"
      },
      "outputs": [],
      "source": [
        "lbp_sentence = \"For 5 years, the funding is $1,000,000.00 which converts to S$1,307,600.00.\"\n",
        "\n",
        "# pattern = re.compile(r'[0-9,.]*\\d')     # try the pattern without the lookbehind\n",
        "pattern = re.compile(r'(?<=S\\$)[0-9,.]*\\d')\n",
        "\n",
        "for m in pattern.finditer(lbp_sentence):\n",
        "    print(m.group())"
      ]
    },
    {
      "cell_type": "markdown",
      "metadata": {
        "id": "djEb8ypX6XM5"
      },
      "source": [
        "Note that we have to escape `$` to `\\$` since `$` is a reserved symbol within regular expressions."
      ]
    },
    {
      "cell_type": "markdown",
      "metadata": {
        "id": "zhUgVx3A6XM5"
      },
      "source": [
        "## More Examples"
      ]
    },
    {
      "cell_type": "markdown",
      "metadata": {
        "id": "2Z5fjDea6XM5"
      },
      "source": [
        "### Find all dates in a text"
      ]
    },
    {
      "cell_type": "code",
      "execution_count": null,
      "metadata": {
        "id": "bWT1TVQg6XM5"
      },
      "outputs": [],
      "source": [
        "date_sentence = \"the office will be closed from 20/03/2017 to 25.03.2017.\"\n",
        "\n",
        "pattern = re.compile(r'\\d+[/.]\\d+[/.]\\d+')\n",
        "\n",
        "for m in pattern.finditer(date_sentence):\n",
        "    print(m.group())"
      ]
    },
    {
      "cell_type": "markdown",
      "metadata": {
        "id": "tuKfQDRM6XM5"
      },
      "source": [
        "Don't forget that regular expressions only look for mattern. The expression above cannot truly find only real dates. For example, the expression would also match `123.456.789` which might be a phone number. It is usually always possible to make regular expressions more robust against wrong matches, but its complexity can quickly shoot up. In this example, we can use `r'\\d{1,2}[/.]\\d{1,2}[/.]\\d{2,4}'` to ensure that `123.456.789` wouldn't match."
      ]
    },
    {
      "cell_type": "markdown",
      "metadata": {
        "id": "Z0FGvDPE6XM5"
      },
      "source": [
        "### Find all IATA flight numbers in a text\n",
        "\n",
        "According to Wikipedia, IATA flight numbers consist of a 2-letter identifier of the airline and an assigned number -- fun fact: low numbers represent more prestigious flights. Officially, there's no whitespace between the airline code and the number, but many sources place one.\n"
      ]
    },
    {
      "cell_type": "code",
      "execution_count": null,
      "metadata": {
        "id": "_T0WTFme6XM5"
      },
      "outputs": [],
      "source": [
        "iata_sentence = \"Was thinking about taking the SQ 326 but now I'm taking LH9765.\"\n",
        "\n",
        "pattern = re.compile(r'\\b[a-zA-Z]{2}\\s?[\\d]{1,4}\\b')\n",
        "\n",
        "for m in pattern.finditer(iata_sentence):\n",
        "    print(m.group())"
      ]
    },
    {
      "cell_type": "markdown",
      "metadata": {
        "id": "0KmXkhKi6XM5"
      },
      "source": [
        "### Change text from American English to British English (a bit)"
      ]
    },
    {
      "cell_type": "code",
      "execution_count": null,
      "metadata": {
        "id": "tsoEiZNP6XM5"
      },
      "outputs": [],
      "source": [
        "ae_sentence = \"Let's organize a meeting to list all commercialized products for the citizens.\""
      ]
    },
    {
      "cell_type": "code",
      "execution_count": null,
      "metadata": {
        "id": "ToJDEtdz6XM5"
      },
      "outputs": [],
      "source": [
        "# be_sentence = re.sub(r'ize', 'ise', ae_sentence, flags=re.IGNORECASE) # Check why this fails\n",
        "\n",
        "be_sentence = re.sub(r'\\b([\\w]+)iz(ing|e[sd]?)?\\b', '\\g<1>is\\g<2>', ae_sentence, flags=re.IGNORECASE) # Check why this fails\n",
        "\n",
        "print(be_sentence)"
      ]
    },
    {
      "cell_type": "markdown",
      "metadata": {
        "id": "BdX_XJ9F6XM5"
      },
      "source": [
        "### Password strength checker\n",
        "\n",
        "Regular expression do not necessarily need to return a match. In this example, we use a regular expression to check the strength of passwords, i.e., a password needs to fulfil some requirements to be valid (see list below). A check for several conditions is often a good indicator that lookarounds are they best option.\n",
        "\n",
        "- `(?=.*[a-z])`: at least 1 lowercase alphabetical character\n",
        "\n",
        "- `(?=.*[A-Z])`: at least 1 uppercase alphabetical character\n",
        "\n",
        "- `(?=.*[0-9])`: at least 1 numeric character\n",
        "\n",
        "- `(?=.*[!@#\\$%\\^&\\*])`: at least one special character (note the escaped reserved RegEx characters)\n",
        "\n",
        "- `(?=.{8,})`: eight characters or longer"
      ]
    },
    {
      "cell_type": "code",
      "execution_count": null,
      "metadata": {
        "id": "F0rErbaC6XM5"
      },
      "outputs": [],
      "source": [
        "good_password = 'testTEST123#'\n",
        "bad_password = 'testtest123#'   # no uppercase character"
      ]
    },
    {
      "cell_type": "code",
      "execution_count": null,
      "metadata": {
        "id": "Te7OowZ76XM6"
      },
      "outputs": [],
      "source": [
        "pattern = re.compile(r'^(?=.*[a-z])(?=.*[A-Z])(?=.*[0-9])(?=.*[!@#\\$%\\^&\\*])(?=.{8,})')\n",
        "\n",
        "print(pattern.match(good_password))\n",
        "print(pattern.match(bad_password))"
      ]
    },
    {
      "cell_type": "markdown",
      "metadata": {
        "id": "ZUtTc2_G6XM6"
      },
      "source": [
        "Not that even valid passwords don't return only an empty string. This is because the whole pattern is composed of lookaheads, which are assertions (i.e., patterns that give up the match; see above). If you want to get the password as a matched string you can change the last lookahead `(?=.{8,})` to a normal pattern `.{8,}`."
      ]
    },
    {
      "cell_type": "markdown",
      "metadata": {
        "id": "T_A4GonH6XM6"
      },
      "source": [
        "## Summary\n",
        "\n",
        "Regular expressions are a powerful and flexible tool to analyze text. This tutorial covered only a small subset of the capabilities of regular expressions.\n",
        "\n",
        "- In general, the same task can be solved with different regular expressions, from simple to (overly) complex\n",
        "\n",
        "- Regular expressions are \"easy to learn but hard to master\"\n",
        "\n",
        "- Practically all modern programming languages support regular expressions\n",
        "\n",
        "- RegEx engines (e.g., Python's `re`) are not all created equal. Not all support all (advanced) features.\n"
      ]
    },
    {
      "cell_type": "code",
      "execution_count": null,
      "metadata": {
        "id": "aYzDCun46XM6"
      },
      "outputs": [],
      "source": []
    }
  ],
  "metadata": {
    "anaconda-cloud": {},
    "kernelspec": {
      "display_name": "Python 3 (ipykernel)",
      "language": "python",
      "name": "python3"
    },
    "language_info": {
      "codemirror_mode": {
        "name": "ipython",
        "version": 3
      },
      "file_extension": ".py",
      "mimetype": "text/x-python",
      "name": "python",
      "nbconvert_exporter": "python",
      "pygments_lexer": "ipython3",
      "version": "3.9.7"
    },
    "colab": {
      "provenance": [],
      "include_colab_link": true
    }
  },
  "nbformat": 4,
  "nbformat_minor": 0
}